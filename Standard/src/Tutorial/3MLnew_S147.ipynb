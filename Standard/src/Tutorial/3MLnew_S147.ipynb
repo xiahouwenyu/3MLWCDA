{
 "cells": [
  {
   "cell_type": "code",
   "execution_count": 4,
   "metadata": {},
   "outputs": [
    {
     "name": "stderr",
     "output_type": "stream",
     "text": [
      "Load Mymap:  11%|█         | 4/38 [00:00<00:00, 38.68it/s]     \n",
      "WARNING VisibleDeprecationWarning: Reading unicode strings without specifying the encoding argument is deprecated. Set the encoding, use None for the system default.\n",
      "\n",
      "\n",
      "WARNING SyntaxWarning: \"is not\" with a literal. Did you mean \"!=\"?\n",
      "\n",
      "Load sub from Mystat: : 40it [00:00, 75.62it/s]                            "
     ]
    },
    {
     "name": "stdout",
     "output_type": "stream",
     "text": [
      "Yourlib init successfully!!!\n"
     ]
    },
    {
     "data": {
      "text/plain": [
       "{'divide': 'warn', 'over': 'warn', 'under': 'ignore', 'invalid': 'warn'}"
      ]
     },
     "execution_count": 4,
     "metadata": {},
     "output_type": "execute_result"
    }
   ],
   "source": [
    "## 环境\n",
    "import sys,  os\n",
    "os.environ['OPENBLAS_NUM_THREADS'] = '1'\n",
    "os.environ['OMP_NUM_THREADS'] = '1'\n",
    "os.environ['MKL_NUM_THREADS'] = '1'\n",
    "os.environ['NUMEXPR_NUM_THREADS'] = '1'\n",
    "os.environ[\"NUMBA_NUM_THREADS\"] = \"12\"\n",
    "os.environ[\"NUMBA_THREADING_LAYER\"] = \"omp\"\n",
    "# os.environ[\"KMP_DUPLICATE_LIB_OK\"]=\"TRUE\"\n",
    "sys.path.append(\"../\")\n",
    "\n",
    "## 基础\n",
    "import numpy as np\n",
    "import matplotlib\n",
    "import matplotlib.pyplot as plt\n",
    "matplotlib.use('Agg')\n",
    "\n",
    "## 必要库\n",
    "from threeML import *\n",
    "try:\n",
    "    from hawc_hal import HAL, HealpixConeROI, HealpixMapROI\n",
    "except:\n",
    "    from WCDA_hal import HAL, HealpixConeROI, HealpixMapROI\n",
    "import mylib as my\n",
    "from importlib import reload\n",
    "\n",
    "##可选\n",
    "# from threeML import silence_progress_bars, activate_progress_bars, toggle_progress_bars\n",
    "# from threeML.utils.progress_bar import trange\n",
    "# from tqdm import tqdm\n",
    "# from astropy.io import fits\n",
    "# from astropy.wcs import WCS\n",
    "# from astropy.coordinates import SkyCoord\n",
    "# from astropy import units as u\n",
    "# from astropy.visualization import astropy_mpl_style, imshAow_norm\n",
    "# from astropy.coordinates import Angle\n",
    "import healpy as hp\n",
    "# import traceback\n",
    "\n",
    "## 警告\n",
    "# import warnings\n",
    "# np.seterr(all=\"ignore\")\n",
    "np.seterr(divide=\"ignore\")\n",
    "# warnings.simplefilter(\"ignore\")\n",
    "# silence_warnings()\n",
    "# silence_logs()\n",
    "# quiet_mode()\n",
    "# loud_mode()\n",
    "# debug_mode()"
   ]
  },
  {
   "cell_type": "code",
   "execution_count": null,
   "metadata": {},
   "outputs": [
    {
     "data": {
      "text/html": [
       "<pre style=\"white-space:pre;overflow-x:auto;line-height:normal;font-family:Menlo,'DejaVu Sans Mono',consolas,'Courier New',monospace\"><span style=\"color: #00ff00; text-decoration-color: #00ff00\">15:29:15 </span><span style=\"color: #00ffaf; text-decoration-color: #00ffaf\">INFO    </span> <span style=\"color: #c6c6c6; text-decoration-color: #c6c6c6; font-weight: bold\"> Using transits contained in maptree                                                    </span><a href=\"file:///home/shenhuafei/miniconda3/envs/3MLhal/lib/python3.9/site-packages/hawc_hal/HAL.py\" target=\"_blank\"><span style=\"color: #7f7f7f; text-decoration-color: #7f7f7f\">HAL.py</span></a><span style=\"color: #7f7f7f; text-decoration-color: #7f7f7f\">:</span><a href=\"file:///home/shenhuafei/miniconda3/envs/3MLhal/lib/python3.9/site-packages/hawc_hal/HAL.py#78\" target=\"_blank\"><span style=\"color: #7f7f7f; text-decoration-color: #7f7f7f\">78</span></a>\n",
       "</pre>\n"
      ],
      "text/plain": [
       "\u001b[38;5;46m15:29:15\u001b[0m\u001b[38;5;46m \u001b[0m\u001b[38;5;49mINFO    \u001b[0m \u001b[1;38;5;251m Using transits contained in maptree                                                   \u001b[0m\u001b[1;38;5;251m \u001b[0m\u001b]8;id=357518;file:///home/shenhuafei/miniconda3/envs/3MLhal/lib/python3.9/site-packages/hawc_hal/HAL.py\u001b\\\u001b[2mHAL.py\u001b[0m\u001b]8;;\u001b\\\u001b[2m:\u001b[0m\u001b]8;id=116175;file:///home/shenhuafei/miniconda3/envs/3MLhal/lib/python3.9/site-packages/hawc_hal/HAL.py#78\u001b\\\u001b[2m78\u001b[0m\u001b]8;;\u001b\\\n"
      ]
     },
     "metadata": {},
     "output_type": "display_data"
    },
    {
     "ename": "OSError",
     "evalue": "MapTree ../../data/20240731_hsc_out.root does not exist or is not readable",
     "output_type": "error",
     "traceback": [
      "\u001b[0;31m---------------------------------------------------------------------------\u001b[0m",
      "\u001b[0;31mOSError\u001b[0m                                   Traceback (most recent call last)",
      "Cell \u001b[0;32mIn[5], line 39\u001b[0m\n\u001b[1;32m     35\u001b[0m roi \u001b[38;5;241m=\u001b[39m HealpixMapROI(ra\u001b[38;5;241m=\u001b[39mra1,dec\u001b[38;5;241m=\u001b[39mdec1, data_radius\u001b[38;5;241m=\u001b[39mdata_radius, model_radius\u001b[38;5;241m=\u001b[39mmodel_radius, roimap\u001b[38;5;241m=\u001b[39mroimap)\n\u001b[1;32m     37\u001b[0m \u001b[38;5;66;03m# roi=HealpixConeROI(ra=ra1,dec=dec1,data_radius=data_radius,model_radius=model_radius) \u001b[39;00m\n\u001b[0;32m---> 39\u001b[0m WCDA \u001b[38;5;241m=\u001b[39m \u001b[43mHAL\u001b[49m\u001b[43m(\u001b[49m\u001b[38;5;124;43m\"\u001b[39;49m\u001b[38;5;124;43mWCDA\u001b[39;49m\u001b[38;5;124;43m\"\u001b[39;49m\u001b[43m,\u001b[49m\u001b[43m \u001b[49m\u001b[43mmaptree\u001b[49m\u001b[43m,\u001b[49m\u001b[43m \u001b[49m\u001b[43mresponse\u001b[49m\u001b[43m,\u001b[49m\u001b[43m \u001b[49m\u001b[43mroi\u001b[49m\u001b[43m,\u001b[49m\u001b[43m \u001b[49m\u001b[43mflat_sky_pixels_size\u001b[49m\u001b[38;5;241;43m=\u001b[39;49m\u001b[38;5;241;43m0.17\u001b[39;49m\u001b[43m)\u001b[49m\n\u001b[1;32m     41\u001b[0m \u001b[38;5;66;03m#####   Data Situation\u001b[39;00m\n\u001b[1;32m     42\u001b[0m get_ipython()\u001b[38;5;241m.\u001b[39mrun_line_magic(\u001b[38;5;124m'\u001b[39m\u001b[38;5;124mmatplotlib\u001b[39m\u001b[38;5;124m'\u001b[39m, \u001b[38;5;124m'\u001b[39m\u001b[38;5;124minline\u001b[39m\u001b[38;5;124m'\u001b[39m)\n",
      "File \u001b[0;32m~/miniconda3/envs/3MLhal/lib/python3.9/site-packages/hawc_hal/HAL.py:87\u001b[0m, in \u001b[0;36mHAL.__init__\u001b[0;34m(self, name, maptree, response_file, roi, flat_sky_pixels_size, n_workers, set_transits)\u001b[0m\n\u001b[1;32m     82\u001b[0m \u001b[38;5;28mself\u001b[39m\u001b[38;5;241m.\u001b[39m_flat_sky_projection \u001b[38;5;241m=\u001b[39m \u001b[38;5;28mself\u001b[39m\u001b[38;5;241m.\u001b[39m_roi\u001b[38;5;241m.\u001b[39mget_flat_sky_projection(\n\u001b[1;32m     83\u001b[0m     \u001b[38;5;28mself\u001b[39m\u001b[38;5;241m.\u001b[39mflat_sky_pixels_size\n\u001b[1;32m     84\u001b[0m )\n\u001b[1;32m     86\u001b[0m \u001b[38;5;66;03m# Read map tree (data)\u001b[39;00m\n\u001b[0;32m---> 87\u001b[0m \u001b[38;5;28mself\u001b[39m\u001b[38;5;241m.\u001b[39m_maptree \u001b[38;5;241m=\u001b[39m \u001b[43mmap_tree_factory\u001b[49m\u001b[43m(\u001b[49m\n\u001b[1;32m     88\u001b[0m \u001b[43m    \u001b[49m\u001b[43mmaptree\u001b[49m\u001b[43m,\u001b[49m\u001b[43m \u001b[49m\u001b[43mroi\u001b[49m\u001b[38;5;241;43m=\u001b[39;49m\u001b[38;5;28;43mself\u001b[39;49m\u001b[38;5;241;43m.\u001b[39;49m\u001b[43m_roi\u001b[49m\u001b[43m,\u001b[49m\u001b[43m \u001b[49m\u001b[43mn_transits\u001b[49m\u001b[38;5;241;43m=\u001b[39;49m\u001b[43mn_transits\u001b[49m\u001b[43m,\u001b[49m\u001b[43m \u001b[49m\u001b[43mn_workers\u001b[49m\u001b[38;5;241;43m=\u001b[39;49m\u001b[38;5;28;43mself\u001b[39;49m\u001b[38;5;241;43m.\u001b[39;49m\u001b[43m_n_workers\u001b[49m\n\u001b[1;32m     89\u001b[0m \u001b[43m\u001b[49m\u001b[43m)\u001b[49m\n\u001b[1;32m     91\u001b[0m \u001b[38;5;66;03m# Read detector response_file\u001b[39;00m\n\u001b[1;32m     92\u001b[0m \u001b[38;5;28mself\u001b[39m\u001b[38;5;241m.\u001b[39m_response \u001b[38;5;241m=\u001b[39m hawc_response_factory(\n\u001b[1;32m     93\u001b[0m     response_file_name\u001b[38;5;241m=\u001b[39mresponse_file, n_workers\u001b[38;5;241m=\u001b[39m\u001b[38;5;28mself\u001b[39m\u001b[38;5;241m.\u001b[39m_n_workers\n\u001b[1;32m     94\u001b[0m )\n",
      "File \u001b[0;32m~/miniconda3/envs/3MLhal/lib/python3.9/site-packages/hawc_hal/maptree/map_tree.py:26\u001b[0m, in \u001b[0;36mmap_tree_factory\u001b[0;34m(map_tree_file, roi, n_workers, n_transits)\u001b[0m\n\u001b[1;32m     23\u001b[0m map_tree_file \u001b[38;5;241m=\u001b[39m sanitize_filename(map_tree_file)\n\u001b[1;32m     25\u001b[0m \u001b[38;5;28;01mif\u001b[39;00m os\u001b[38;5;241m.\u001b[39mpath\u001b[38;5;241m.\u001b[39msplitext(map_tree_file)[\u001b[38;5;241m-\u001b[39m\u001b[38;5;241m1\u001b[39m] \u001b[38;5;241m==\u001b[39m \u001b[38;5;124m\"\u001b[39m\u001b[38;5;124m.root\u001b[39m\u001b[38;5;124m\"\u001b[39m:\n\u001b[0;32m---> 26\u001b[0m     \u001b[38;5;28;01mreturn\u001b[39;00m \u001b[43mMapTree\u001b[49m\u001b[38;5;241;43m.\u001b[39;49m\u001b[43mfrom_root_file\u001b[49m\u001b[43m(\u001b[49m\u001b[43mmap_tree_file\u001b[49m\u001b[43m,\u001b[49m\u001b[43m \u001b[49m\u001b[43mroi\u001b[49m\u001b[43m,\u001b[49m\u001b[43m \u001b[49m\u001b[43mn_transits\u001b[49m\u001b[43m,\u001b[49m\u001b[43m \u001b[49m\u001b[43mn_workers\u001b[49m\u001b[43m)\u001b[49m\n\u001b[1;32m     28\u001b[0m \u001b[38;5;28;01mreturn\u001b[39;00m MapTree\u001b[38;5;241m.\u001b[39mfrom_hdf5(map_tree_file, roi, n_transits)\n",
      "File \u001b[0;32m~/miniconda3/envs/3MLhal/lib/python3.9/site-packages/hawc_hal/maptree/map_tree.py:64\u001b[0m, in \u001b[0;36mMapTree.from_root_file\u001b[0;34m(cls, map_tree_file, roi, n_transits, n_workers)\u001b[0m\n\u001b[1;32m     54\u001b[0m \u001b[38;5;129m@classmethod\u001b[39m\n\u001b[1;32m     55\u001b[0m \u001b[38;5;28;01mdef\u001b[39;00m\u001b[38;5;250m \u001b[39m\u001b[38;5;21mfrom_root_file\u001b[39m(\u001b[38;5;28mcls\u001b[39m, map_tree_file, roi, n_transits, n_workers: \u001b[38;5;28mint\u001b[39m):\n\u001b[1;32m     56\u001b[0m \u001b[38;5;250m    \u001b[39m\u001b[38;5;124;03m\"\"\"\u001b[39;00m\n\u001b[1;32m     57\u001b[0m \u001b[38;5;124;03m    Create a MapTree object from a ROOT file and a ROI. Do not use this directly, use map_tree_factory instead.\u001b[39;00m\n\u001b[1;32m     58\u001b[0m \n\u001b[0;32m   (...)\u001b[0m\n\u001b[1;32m     61\u001b[0m \u001b[38;5;124;03m    :return:\u001b[39;00m\n\u001b[1;32m     62\u001b[0m \u001b[38;5;124;03m    \"\"\"\u001b[39;00m\n\u001b[0;32m---> 64\u001b[0m     data_analysis_bins, transits \u001b[38;5;241m=\u001b[39m \u001b[43mfrom_root_file\u001b[49m\u001b[43m(\u001b[49m\n\u001b[1;32m     65\u001b[0m \u001b[43m        \u001b[49m\u001b[43mmap_tree_file\u001b[49m\u001b[43m,\u001b[49m\u001b[43m \u001b[49m\u001b[43mroi\u001b[49m\u001b[43m,\u001b[49m\u001b[43m \u001b[49m\u001b[43mn_transits\u001b[49m\u001b[43m,\u001b[49m\u001b[43m \u001b[49m\u001b[43mn_workers\u001b[49m\n\u001b[1;32m     66\u001b[0m \u001b[43m    \u001b[49m\u001b[43m)\u001b[49m\n\u001b[1;32m     68\u001b[0m     \u001b[38;5;28;01mreturn\u001b[39;00m \u001b[38;5;28mcls\u001b[39m(data_analysis_bins, roi, transits)\n",
      "File \u001b[0;32m~/miniconda3/envs/3MLhal/lib/python3.9/site-packages/hawc_hal/maptree/from_root_file.py:190\u001b[0m, in \u001b[0;36mfrom_root_file\u001b[0;34m(map_tree_file, roi, transits, n_workers, scheme)\u001b[0m\n\u001b[1;32m    187\u001b[0m \u001b[38;5;66;03m# Check that they exists and can be read\u001b[39;00m\n\u001b[1;32m    189\u001b[0m \u001b[38;5;28;01mif\u001b[39;00m \u001b[38;5;129;01mnot\u001b[39;00m file_existing_and_readable(map_tree_file):  \u001b[38;5;66;03m# pragma: no cover\u001b[39;00m\n\u001b[0;32m--> 190\u001b[0m     \u001b[38;5;28;01mraise\u001b[39;00m \u001b[38;5;167;01mIOError\u001b[39;00m(\u001b[38;5;124mf\u001b[39m\u001b[38;5;124m\"\u001b[39m\u001b[38;5;124mMapTree \u001b[39m\u001b[38;5;132;01m{\u001b[39;00mmap_tree_file\u001b[38;5;132;01m}\u001b[39;00m\u001b[38;5;124m does not exist or is not readable\u001b[39m\u001b[38;5;124m\"\u001b[39m)\n\u001b[1;32m    192\u001b[0m \u001b[38;5;66;03m# Make sure we have a proper ROI (or None)\u001b[39;00m\n\u001b[1;32m    194\u001b[0m \u001b[38;5;28;01massert\u001b[39;00m \u001b[38;5;28misinstance\u001b[39m(roi, HealpixROIBase) \u001b[38;5;129;01mor\u001b[39;00m roi \u001b[38;5;129;01mis\u001b[39;00m \u001b[38;5;28;01mNone\u001b[39;00m, (\n\u001b[1;32m    195\u001b[0m     \u001b[38;5;124m\"\u001b[39m\u001b[38;5;124mYou have to provide an ROI choosing from the \u001b[39m\u001b[38;5;124m\"\u001b[39m\n\u001b[1;32m    196\u001b[0m     \u001b[38;5;124m\"\u001b[39m\u001b[38;5;124mavailable ROIs in the region_of_interest module\u001b[39m\u001b[38;5;124m\"\u001b[39m\n\u001b[1;32m    197\u001b[0m )\n",
      "\u001b[0;31mOSError\u001b[0m: MapTree ../../data/20240731_hsc_out.root does not exist or is not readable"
     ]
    },
    {
     "name": "stderr",
     "output_type": "stream",
     "text": [
      "mkdir: cannot create directory ‘../res/S147/’: No such file or directory\n"
     ]
    },
    {
     "name": "stderr",
     "output_type": "stream",
     "text": [
      "Load sub from Mystat: : 40it [00:20, 75.62it/s]"
     ]
    }
   ],
   "source": [
    "#####   Data Initialize\n",
    "\n",
    "# maptree = \"../../data/gcd_new.root\"\n",
    "\n",
    "# maptree =  \"../../data/20210305_20230731_ihep_goodlist.root\"\n",
    "# maptree =  \"../../data/20210305_20230731_ihep_no_goodlist.root\"\n",
    "# maptree =  \"../../data/20210305-20230731_trans_fromhsc.root\"\n",
    "# maptree =  \"../../data/WCDA_20240131_out.root\"\n",
    "\n",
    "# response = \"../../data/DR_ihep_MK2.root\"\n",
    "# response = \"../../data/DR_ihep_MK2_newpsf.root\"\n",
    "\n",
    "# response = \"/data/home/cwy/Science/3MLWCDA/data/DR_ihep_20240131_Crabpsf_mc.root\"\n",
    "# response = \"../../data/DR_ihep_MK2_newoldDRpsf.root\"\n",
    "# response = \"../../data/WCDA_DR_psf.root\"\n",
    "# response = \"../../data/DR_ihep_mk_luoyu.root\"\n",
    "# response = \"../../data/DR_ihep_mk_MC1.root\"\n",
    "# response = \"../../data/DR_ihep_mk_MC2.root\"\n",
    "# response = \"../../data/DR_ihep_MK2_luoyu.root\"\n",
    "\n",
    "maptree = f\"{my.libdir}/../../data/20240731_hsc_out.root\"\n",
    "response= f\"{my.libdir}/../../data/DR_ihep_20240131_hscpsf_mc.root\"\n",
    "\n",
    "region_name=\"S147\"\n",
    "if not os.path.exists(f'{my.libdir}/../res/{region_name}/'):\n",
    "    os.system(f'mkdir {my.libdir}/../res/{region_name}/')\n",
    "ra_S147, dec_S147 =   83, 26 #84.60, 28.29\n",
    "ra1,dec1=ra_S147, dec_S147\n",
    "\n",
    "data_radius = 7.0\n",
    "model_radius = 8.0\n",
    "\n",
    "# roimap = my.getmaskedroi(ra1, dec1, data_radius, [(87.28, 23.90, 2), (83.63, 22.02, 3)])\n",
    "roimap = my.getmaskedroi(ra1, dec1, data_radius, [(85.78, 23.40, 3), (83.63, 22.02, 3)]) #\n",
    "roi = HealpixMapROI(ra=ra1,dec=dec1, data_radius=data_radius, model_radius=model_radius, roimap=roimap)\n",
    "\n",
    "# roi=HealpixConeROI(ra=ra1,dec=dec1,data_radius=data_radius,model_radius=model_radius) \n",
    "\n",
    "WCDA = HAL(\"WCDA\", maptree, response, roi, flat_sky_pixels_size=0.17)\n",
    "\n",
    "#####   Data Situation\n",
    "%matplotlib inline\n",
    "WCDA.set_active_measurements(0, 6)\n",
    "WCDA.display()\n",
    "\n",
    "fig = WCDA.display_stacked_image(smoothing_kernel_sigma=0.25)\n",
    "fig.show()\n",
    "fig.savefig(f\"{my.libdir}/../res/{region_name}/counts_all.png\",dpi=300)"
   ]
  },
  {
   "cell_type": "code",
   "execution_count": null,
   "metadata": {},
   "outputs": [],
   "source": [
    "map2, skymapHeader = hp.read_map(\"/data/home/cwy/Science/3MLWCDA/Standard/res/S147/Halpha_fwhm06_1024.fits\",h=True)\n",
    "map2 = my.change_coord(map2, [\"G\",\"C\"])\n",
    "my.heal2fits(map2, \"/data/home/cwy/Science/3MLWCDA/Standard/res/S147/S147_HI_temp.fits\", ra_min = 82, ra_max = 88, xsize=0.01, dec_min=26, dec_max=30, ysize=0.01, nside=1024, ifplot=0, check=0, alpha=1, ifnorm=True)\n",
    "figfits, wcs, fitsdata = my.drawfits(fits_file_path=\"/data/home/cwy/Science/3MLWCDA/Standard/res/S147/S147_HI_temp.fits\")"
   ]
  },
  {
   "cell_type": "code",
   "execution_count": null,
   "metadata": {},
   "outputs": [],
   "source": [
    "%matplotlib inline\n",
    "bestmodel, result = my.Search(ra1, dec1, data_radius, model_radius,  region_name+\"_new_freeDGE0-5\", WCDA, roi, 0, 5,freeDGE=1, fromcatalog=1, fixcatall=1)"
   ]
  },
  {
   "cell_type": "code",
   "execution_count": null,
   "metadata": {},
   "outputs": [],
   "source": [
    "Modelname=\"cat+1ext+1pt_freeDGE_0-6\"\n",
    "if not os.path.exists(f'{my.libdir}/../res/{region_name}/{Modelname}/'):\n",
    "    os.system(f'mkdir {my.libdir}/../res/{region_name}/{Modelname}/')\n",
    "\n",
    "lm = my.getcatModel(ra1, dec1, data_radius, model_radius, roi=roi)\n",
    "with open(f'{my.libdir}/../res/{region_name}/{Modelname}/Model_init.txt', 'w') as f:\n",
    "    for key, value in lm.parameters.items():\n",
    "        f.write(f'{key}: {value}\\n')\n",
    "\n",
    "# S147 = my.set_diffusemodel(\"S147\", '/data/home/cwy/Science/3MLWCDA/Standard/res/S147/S147_HI_temp.fits', K=7.3776826e-14, Kb=(1e-17, 1e-10))\n",
    "S147 = my.setsorce(\"S147\",84.5,28.5, sigma=0.2, sb=(0,5), #sf=True, #raf=True,decf=True,\n",
    "                indexb=(-4,-1),kb=(1e-16, 1e-12), #indexf=True,\n",
    "                fitrange=1)\n",
    "\n",
    "PWN = my.setsorce(\"PWN\",84.5,28.5, #sf=True, #raf=True,decf=True,\n",
    "                indexb=(-4,-1),kb=(1e-16, 1e-12), #indexf=True,\n",
    "                fitrange=1)\n",
    "\n",
    "Diffuse = my.set_diffusebkg(\n",
    "                ra1, dec1, data_radius, data_radius, name=region_name+\"WCDA\",\n",
    "                Kf=False, indexf=False\n",
    "                )\n",
    "# lm = Model(S147, PWN, Diffuse)\n",
    "lm.add_source(S147)\n",
    "lm.add_source(PWN); lm.add_source(Diffuse)\n",
    "\n",
    "lm.save(f\"{my.libdir}/../res/{region_name}/{Modelname}/Model_init.yml\", overwrite=True)\n",
    "\n",
    "lm.display(complete=True)\n",
    "        "
   ]
  },
  {
   "cell_type": "code",
   "execution_count": null,
   "metadata": {},
   "outputs": [],
   "source": [
    "my.getresaccuracy(WCDA, lm, plot=True, savepath=f\"{my.libdir}/../res/{region_name}/{Modelname}/\")"
   ]
  },
  {
   "cell_type": "code",
   "execution_count": null,
   "metadata": {},
   "outputs": [],
   "source": [
    "reload(my)"
   ]
  },
  {
   "cell_type": "code",
   "execution_count": null,
   "metadata": {},
   "outputs": [],
   "source": [
    "my.get_residual_significance_mapfast(WCDA, lm=None, combine='weighted', plot=True, savepath=f\"{my.libdir}/../res/{region_name}/{Modelname}/\")"
   ]
  },
  {
   "cell_type": "code",
   "execution_count": null,
   "metadata": {},
   "outputs": [],
   "source": [
    "%matplotlib inline\n",
    "result = my.fit(region_name, Modelname, WCDA, lm, 0, 6,mini=\"ROOT\")\n",
    "sources = my.get_sources(lm,result)\n",
    "result[1][0]\n",
    "# result[0].get_contours(J0248.Gaussian_on_sphere.lon0,39.88,44.88,30)"
   ]
  },
  {
   "cell_type": "code",
   "execution_count": null,
   "metadata": {},
   "outputs": [],
   "source": [
    "TSlist = [\"S147\", \"PWN\", \"Diffuse\"] #\n",
    "TS, TSresults = my.getTSall(TSlist, region_name, Modelname, result, WCDA)\n",
    "TSresults"
   ]
  },
  {
   "cell_type": "code",
   "execution_count": null,
   "metadata": {},
   "outputs": [],
   "source": [
    "reload(my)"
   ]
  },
  {
   "cell_type": "code",
   "execution_count": null,
   "metadata": {},
   "outputs": [],
   "source": [
    "%matplotlib inline\n",
    "sources = my.get_sources(lm,result) #\n",
    "sources.pop(\"Diffuse\")\n",
    "# sources.pop(\"S147\")\n",
    "# sources={}\n",
    "\n",
    "map2, skymapHeader = hp.read_map(f\"{my.libdir}/../../data/fullsky_WCDA_20240731_0-6_2.6.fits.gz\",h=True)\n",
    "map2 = my.maskroi(map2, roi)\n",
    "\n",
    "fig = my.drawmap(region_name, Modelname, sources, map2, ra1, dec1, rad=2*data_radius, contours=[3],save=1, \n",
    "                cat={\"PSR\": [0, \"*\"],\"SNR\": [0, \"o\"],\"3FHL\": [0, \"D\"],\"4FGL\": [0, \"d\"],\"size\": 20,\"markercolor\": \"grey\",\"labelcolor\": \"black\",\"angle\": 60,\"catext\": 1  }, #\n",
    "                # cat={ \"LHAASO\": [0, \"P\"],\"TeVCat\": [0, \"s\"],\"PSR\": [0, \"*\"],\"SNR\": [0, \"o\"],\"3FHL\": [0, \"D\"], \"4FGL\": [0, \"d\"], \"YMC\": [0, \"^\"], \"GYMC\":[0, \"v\"], \"WR\":[0, \"X\"], \"size\": 20, \"color\": \"grey\", \"angle\": 60, \"catext\": 1}, #2*data_radius\n",
    "                # color=\"Milagro\"\n",
    "                  color=\"Fermi\",\n",
    "                  # Drawdiff=1, legend=0,\n",
    "                  # ifdrawfits=1, cutl=0, alphaf=1, fitsfile=\"/data/home/cwy/Science/3MLWCDA/Standard/res/S147/S147_HI_temp.fits\" #, vmin=-15, vmax=30, #\n",
    "                  )\n",
    "# ax = plt.gca()\n",
    "# ax.set_aspect('equal', adjustable='box')"
   ]
  },
  {
   "cell_type": "code",
   "execution_count": null,
   "metadata": {},
   "outputs": [],
   "source": [
    "my.write_resmap(region_name, Modelname, WCDA, roi, maptree, ra1, dec1, \"S147_res_all\",[0],[0,0])"
   ]
  },
  {
   "cell_type": "code",
   "execution_count": null,
   "metadata": {},
   "outputs": [],
   "source": [
    "Flux_WCDA0, jls0  = my.getdatapoint(WCDA, lm, maptree, response, roi, \"S147\", ifpowerlawM=1)\n",
    "Flux_WCDA1, jls1  = my.getdatapoint(WCDA, lm, maptree, response, roi, \"PWN\", ifpowerlawM=1)"
   ]
  },
  {
   "cell_type": "code",
   "execution_count": null,
   "metadata": {},
   "outputs": [],
   "source": [
    "%matplotlib inline\n",
    "import matplotlib as mpl\n",
    "\n",
    "x_Max=50.\n",
    "x_Min=0.5\n",
    "y_Min=0.1e-13\n",
    "y_Max=8e-12\n",
    "fig,ax = plt.subplots()\n",
    "plot_spectra(\n",
    "    result[0].results,\n",
    "    sources_to_use=[\"S147\",\"PWN\"], # \n",
    "    include_extended=True,\n",
    "    ene_min=x_Min,\n",
    "    ene_max=x_Max,\n",
    "    num_ene=30,\n",
    "    energy_unit=\"TeV\",\n",
    "    flux_unit=\"TeV/(s cm2)\",\n",
    "    subplot=ax,\n",
    "    )\n",
    "\n",
    "my.Draw_sepctrum_points(region_name, Modelname, Flux_WCDA0,\"S147\",\"tab:blue\")\n",
    "my.Draw_sepctrum_points(region_name, Modelname, Flux_WCDA1,\"PWN\",\"tab:red\")\n",
    "\n",
    "# LHAASO_sensitivity = np.genfromtxt(\"./LHAASO_sensitivity.csv\",delimiter=',')\n",
    "# plt.plot(LHAASO_sensitivity[:,0],LHAASO_sensitivity[:,1]*1e-11,label=\"LHAASO 1yr\", c=\"black\")\n",
    "\n",
    "ax.set_xlim(x_Min,x_Max)\n",
    "ax.set_ylim(y_Min,y_Max)\n",
    "ax.set_xscale('log')\n",
    "ax.set_yscale('log')\n",
    "ax.set_ylabel(r\"$E^2\\,dN/dE$ [TeV cm$^{-2}$ s$^{-1}$]\")\n",
    "ax.set_xlabel(\"Energy [TeV]\")\n",
    "plt.legend()\n",
    "plt.savefig(f'{my.libdir}/../res/{region_name}/{Modelname}/Spectrum.png', dpi=300)\n",
    "plt.savefig(f'{my.libdir}/../res/{region_name}/{Modelname}/Spectrum.pdf')"
   ]
  },
  {
   "cell_type": "code",
   "execution_count": null,
   "metadata": {},
   "outputs": [],
   "source": []
  }
 ],
 "metadata": {
  "kernelspec": {
   "display_name": "3MLhal",
   "language": "python",
   "name": "python3"
  },
  "language_info": {
   "codemirror_mode": {
    "name": "ipython",
    "version": 3
   },
   "file_extension": ".py",
   "mimetype": "text/x-python",
   "name": "python",
   "nbconvert_exporter": "python",
   "pygments_lexer": "ipython3",
   "version": "3.9.15"
  },
  "orig_nbformat": 4
 },
 "nbformat": 4,
 "nbformat_minor": 2
}
