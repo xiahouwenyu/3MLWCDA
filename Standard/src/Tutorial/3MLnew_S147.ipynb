{
 "cells": [
  {
   "cell_type": "code",
   "execution_count": null,
   "metadata": {},
   "outputs": [],
   "source": [
    "import matplotlib, sys,  os\n",
    "# os.environ['OPENBLAS_NUM_THREADS'] = '1'\n",
    "# os.environ['OMP_NUM_THREADS'] = '1'\n",
    "# os.environ['MKL_NUM_THREADS'] = '1'\n",
    "# os.environ['NUMEXPR_NUM_THREADS'] = '1'\n",
    "# os.environ[\"KMP_DUPLICATE_LIB_OK\"]=\"TRUE\"\n",
    "sys.path.append(\"../../mylib/\")\n",
    "\n",
    "## 环境\n",
    "import sys,  os\n",
    "os.environ['OPENBLAS_NUM_THREADS'] = '1'\n",
    "os.environ['OMP_NUM_THREADS'] = '1'\n",
    "os.environ['MKL_NUM_THREADS'] = '1'\n",
    "os.environ['NUMEXPR_NUM_THREADS'] = '1'\n",
    "os.environ[\"NUMBA_NUM_THREADS\"] = \"64\"\n",
    "os.environ[\"NUMBA_THREADING_LAYER\"] = \"omp\"\n",
    "# os.environ[\"KMP_DUPLICATE_LIB_OK\"]=\"TRUE\"\n",
    "sys.path.append(\"./mylib/\")\n",
    "\n",
    "## 基础\n",
    "import numpy as np\n",
    "import matplotlib\n",
    "import matplotlib.pyplot as plt\n",
    "matplotlib.use('Agg')\n",
    "\n",
    "## 必要库\n",
    "from threeML import *\n",
    "try:\n",
    "    from hawc_hal import HAL, HealpixConeROI, HealpixMapROI\n",
    "except:\n",
    "    from WCDA_hal import HAL, HealpixConeROI, HealpixMapROI\n",
    "import mylib as my\n",
    "from importlib import reload\n",
    "\n",
    "##可选\n",
    "# from threeML import silence_progress_bars, activate_progress_bars, toggle_progress_bars\n",
    "# from threeML.utils.progress_bar import trange\n",
    "# from tqdm import tqdm\n",
    "# from astropy.io import fits\n",
    "# from astropy.wcs import WCS\n",
    "# from astropy.coordinates import SkyCoord\n",
    "# from astropy import units as u\n",
    "# from astropy.visualization import astropy_mpl_style, imshAow_norm\n",
    "# from astropy.coordinates import Angle\n",
    "import healpy as hp\n",
    "# import copy\n",
    "# import pandas as pd\n",
    "# import traceback\n",
    "\n",
    "## 警告\n",
    "# import warnings\n",
    "# np.seterr(all=\"ignore\")\n",
    "np.seterr(divide=\"ignore\")\n",
    "# warnings.simplefilter(\"ignore\")\n",
    "# silence_warnings()\n",
    "# silence_logs()\n",
    "# quiet_mode()\n",
    "# loud_mode()\n",
    "# debug_mode()"
   ]
  },
  {
   "cell_type": "code",
   "execution_count": null,
   "metadata": {},
   "outputs": [],
   "source": [
    "#####   Data Initialize\n",
    "\n",
    "# maptree = \"../../data/gcd_new.root\"\n",
    "\n",
    "# maptree =  \"../../data/20210305_20230731_ihep_goodlist.root\"\n",
    "# maptree =  \"../../data/20210305_20230731_ihep_no_goodlist.root\"\n",
    "# maptree =  \"../../data/20210305-20230731_trans_fromhsc.root\"\n",
    "# maptree =  \"../../data/WCDA_20240131_out.root\"\n",
    "\n",
    "# response = \"../../data/DR_ihep_MK2.root\"\n",
    "# response = \"../../data/DR_ihep_MK2_newpsf.root\"\n",
    "\n",
    "# response = \"/data/home/cwy/Science/3MLWCDA/data/DR_ihep_20240131_Crabpsf_mc.root\"\n",
    "# response = \"../../data/DR_ihep_MK2_newoldDRpsf.root\"\n",
    "# response = \"../../data/WCDA_DR_psf.root\"\n",
    "# response = \"../../data/DR_ihep_mk_luoyu.root\"\n",
    "# response = \"../../data/DR_ihep_mk_MC1.root\"\n",
    "# response = \"../../data/DR_ihep_mk_MC2.root\"\n",
    "# response = \"../../data/DR_ihep_MK2_luoyu.root\"\n",
    "\n",
    "maptree = \"../../data/20240731_hsc_out.root\"\n",
    "response=\"../../data/DR_ihep_20240131_hscpsf_mc.root\"\n",
    "\n",
    "region_name=\"S147\"\n",
    "if not os.path.exists(f'../res/{region_name}/'):\n",
    "    os.system(f'mkdir ../res/{region_name}/')\n",
    "ra_S147, dec_S147 =   83, 26 #84.60, 28.29\n",
    "ra1,dec1=ra_S147, dec_S147\n",
    "\n",
    "data_radius = 7.0\n",
    "model_radius = 8.0\n",
    "\n",
    "# roimap = my.getmaskedroi(ra1, dec1, data_radius, [(87.28, 23.90, 2), (83.63, 22.02, 3)])\n",
    "roimap = my.getmaskedroi(ra1, dec1, data_radius, [(85.78, 23.40, 3), (83.63, 22.02, 3)]) #\n",
    "roi = HealpixMapROI(ra=ra1,dec=dec1, data_radius=data_radius, model_radius=model_radius, roimap=roimap)\n",
    "\n",
    "# roi=HealpixConeROI(ra=ra1,dec=dec1,data_radius=data_radius,model_radius=model_radius) \n",
    "\n",
    "WCDA = HAL(\"WCDA\", maptree, response, roi, flat_sky_pixels_size=0.17)\n",
    "\n",
    "#####   Data Situation\n",
    "%matplotlib inline\n",
    "WCDA.set_active_measurements(0, 6)\n",
    "WCDA.display()\n",
    "\n",
    "fig = WCDA.display_stacked_image(smoothing_kernel_sigma=0.25)\n",
    "fig.show()\n",
    "fig.savefig(f\"../res/{region_name}/counts_all.png\",dpi=300)"
   ]
  },
  {
   "cell_type": "code",
   "execution_count": null,
   "metadata": {},
   "outputs": [],
   "source": [
    "map2, skymapHeader = hp.read_map(\"/data/home/cwy/Science/3MLWCDA/Standard/res/S147/Halpha_fwhm06_1024.fits\",h=True)\n",
    "map2 = my.change_coord(map2, [\"G\",\"C\"])\n",
    "my.heal2fits(map2, \"/data/home/cwy/Science/3MLWCDA/Standard/res/S147/S147_HI_temp.fits\", ra_min = 82, ra_max = 88, xsize=0.01, dec_min=26, dec_max=30, ysize=0.01, nside=1024, ifplot=0, check=0, alpha=1, ifnorm=True)\n",
    "figfits, wcs, fitsdata = my.drawfits(fits_file_path=\"/data/home/cwy/Science/3MLWCDA/Standard/res/S147/S147_HI_temp.fits\")"
   ]
  },
  {
   "cell_type": "code",
   "execution_count": null,
   "metadata": {},
   "outputs": [],
   "source": [
    "%matplotlib inline\n",
    "bestmodel, result = my.Search(ra1, dec1, data_radius, model_radius,  region_name+\"_new_freeDGE0-5\", WCDA, roi, 0, 5,freeDGE=1, fromcatalog=1, fixcatall=1)"
   ]
  },
  {
   "cell_type": "code",
   "execution_count": null,
   "metadata": {},
   "outputs": [],
   "source": [
    "Modelname=\"cat+1ext+1pt_freeDGE_0-6\"\n",
    "if not os.path.exists(f'../res/{region_name}/{Modelname}/'):\n",
    "    os.system(f'mkdir ../res/{region_name}/{Modelname}/')\n",
    "\n",
    "lm = my.getcatModel(ra1, dec1, data_radius, model_radius, roi=roi)\n",
    "with open(f'../res/{region_name}/{Modelname}/Model_init.txt', 'w') as f:\n",
    "    for key, value in lm.parameters.items():\n",
    "        f.write(f'{key}: {value}\\n')\n",
    "\n",
    "# S147 = my.set_diffusemodel(\"S147\", '/data/home/cwy/Science/3MLWCDA/Standard/res/S147/S147_HI_temp.fits', K=7.3776826e-14, Kb=(1e-17, 1e-10))\n",
    "S147 = my.setsorce(\"S147\",84.5,28.5, sigma=0.2, sb=(0,5), #sf=True, #raf=True,decf=True,\n",
    "                indexb=(-4,-1),kb=(1e-16, 1e-12), #indexf=True,\n",
    "                fitrange=1)\n",
    "\n",
    "PWN = my.setsorce(\"PWN\",84.5,28.5, #sf=True, #raf=True,decf=True,\n",
    "                indexb=(-4,-1),kb=(1e-16, 1e-12), #indexf=True,\n",
    "                fitrange=1)\n",
    "\n",
    "Diffuse = my.set_diffusebkg(\n",
    "                ra1, dec1, data_radius, data_radius, name=region_name+\"WCDA\",\n",
    "                Kf=False, indexf=False\n",
    "                )\n",
    "# lm = Model(S147, PWN, Diffuse)\n",
    "lm.add_source(S147)\n",
    "lm.add_source(PWN); lm.add_source(Diffuse)\n",
    "\n",
    "lm.save(f\"../res/{region_name}/{Modelname}/Model_init.yml\", overwrite=True)\n",
    "\n",
    "lm.display(complete=True)\n",
    "        "
   ]
  },
  {
   "cell_type": "code",
   "execution_count": null,
   "metadata": {},
   "outputs": [],
   "source": [
    "my.getresaccuracy(WCDA, lm, plot=True, savepath=f\"../res/{region_name}/{Modelname}/\")"
   ]
  },
  {
   "cell_type": "code",
   "execution_count": null,
   "metadata": {},
   "outputs": [],
   "source": [
    "reload(my)"
   ]
  },
  {
   "cell_type": "code",
   "execution_count": null,
   "metadata": {},
   "outputs": [],
   "source": [
    "my.get_residual_significance_mapfast(WCDA, lm=None, combine='weighted', plot=True, savepath=f\"../res/{region_name}/{Modelname}/\")"
   ]
  },
  {
   "cell_type": "code",
   "execution_count": null,
   "metadata": {},
   "outputs": [],
   "source": [
    "%matplotlib inline\n",
    "result = my.fit(region_name, Modelname, WCDA, lm, 0, 6,mini=\"ROOT\")\n",
    "sources = my.get_sources(lm,result)\n",
    "result[1][0]\n",
    "# result[0].get_contours(J0248.Gaussian_on_sphere.lon0,39.88,44.88,30)"
   ]
  },
  {
   "cell_type": "code",
   "execution_count": null,
   "metadata": {},
   "outputs": [],
   "source": [
    "TSlist = [\"S147\", \"PWN\", \"Diffuse\"] #\n",
    "TS, TSresults = my.getTSall(TSlist, region_name, Modelname, result, WCDA)\n",
    "TSresults"
   ]
  },
  {
   "cell_type": "code",
   "execution_count": null,
   "metadata": {},
   "outputs": [],
   "source": [
    "reload(my)"
   ]
  },
  {
   "cell_type": "code",
   "execution_count": null,
   "metadata": {},
   "outputs": [],
   "source": [
    "%matplotlib inline\n",
    "sources = my.get_sources(lm,result) #\n",
    "sources.pop(\"Diffuse\")\n",
    "# sources.pop(\"S147\")\n",
    "# sources={}\n",
    "\n",
    "map2, skymapHeader = hp.read_map(\"../../data/fullsky_WCDA_20240731_0-6_2.6.fits.gz\",h=True)\n",
    "map2 = my.maskroi(map2, roi)\n",
    "\n",
    "fig = my.drawmap(region_name, Modelname, sources, map2, ra1, dec1, rad=2*data_radius, contours=[3],save=1, \n",
    "                cat={\"PSR\": [0, \"*\"],\"SNR\": [0, \"o\"],\"3FHL\": [0, \"D\"],\"4FGL\": [0, \"d\"],\"size\": 20,\"markercolor\": \"grey\",\"labelcolor\": \"black\",\"angle\": 60,\"catext\": 1  }, #\n",
    "                # cat={ \"LHAASO\": [0, \"P\"],\"TeVCat\": [0, \"s\"],\"PSR\": [0, \"*\"],\"SNR\": [0, \"o\"],\"3FHL\": [0, \"D\"], \"4FGL\": [0, \"d\"], \"YMC\": [0, \"^\"], \"GYMC\":[0, \"v\"], \"WR\":[0, \"X\"], \"size\": 20, \"color\": \"grey\", \"angle\": 60, \"catext\": 1}, #2*data_radius\n",
    "                # color=\"Milagro\"\n",
    "                  color=\"Fermi\",\n",
    "                  # Drawdiff=1, legend=0,\n",
    "                  # ifdrawfits=1, cutl=0, alphaf=1, fitsfile=\"/data/home/cwy/Science/3MLWCDA/Standard/res/S147/S147_HI_temp.fits\" #, vmin=-15, vmax=30, #\n",
    "                  )\n",
    "# ax = plt.gca()\n",
    "# ax.set_aspect('equal', adjustable='box')"
   ]
  },
  {
   "cell_type": "code",
   "execution_count": null,
   "metadata": {},
   "outputs": [],
   "source": [
    "my.write_resmap(region_name, Modelname, WCDA, roi, maptree, ra1, dec1, \"S147_res_all\",[0],[0,0])"
   ]
  },
  {
   "cell_type": "code",
   "execution_count": null,
   "metadata": {},
   "outputs": [],
   "source": [
    "Flux_WCDA0, jls0  = my.getdatapoint(WCDA, lm, maptree, response, roi, \"S147\", ifpowerlawM=1)\n",
    "Flux_WCDA1, jls1  = my.getdatapoint(WCDA, lm, maptree, response, roi, \"PWN\", ifpowerlawM=1)"
   ]
  },
  {
   "cell_type": "code",
   "execution_count": null,
   "metadata": {},
   "outputs": [],
   "source": [
    "%matplotlib inline\n",
    "import matplotlib as mpl\n",
    "\n",
    "x_Max=50.\n",
    "x_Min=0.5\n",
    "y_Min=0.1e-13\n",
    "y_Max=8e-12\n",
    "fig,ax = plt.subplots()\n",
    "plot_spectra(\n",
    "    result[0].results,\n",
    "    sources_to_use=[\"S147\",\"PWN\"], # \n",
    "    include_extended=True,\n",
    "    ene_min=x_Min,\n",
    "    ene_max=x_Max,\n",
    "    num_ene=30,\n",
    "    energy_unit=\"TeV\",\n",
    "    flux_unit=\"TeV/(s cm2)\",\n",
    "    subplot=ax,\n",
    "    )\n",
    "\n",
    "my.Draw_sepctrum_points(region_name, Modelname, Flux_WCDA0,\"S147\",\"tab:blue\")\n",
    "my.Draw_sepctrum_points(region_name, Modelname, Flux_WCDA1,\"PWN\",\"tab:red\")\n",
    "\n",
    "# LHAASO_sensitivity = np.genfromtxt(\"./LHAASO_sensitivity.csv\",delimiter=',')\n",
    "# plt.plot(LHAASO_sensitivity[:,0],LHAASO_sensitivity[:,1]*1e-11,label=\"LHAASO 1yr\", c=\"black\")\n",
    "\n",
    "ax.set_xlim(x_Min,x_Max)\n",
    "ax.set_ylim(y_Min,y_Max)\n",
    "ax.set_xscale('log')\n",
    "ax.set_yscale('log')\n",
    "ax.set_ylabel(r\"$E^2\\,dN/dE$ [TeV cm$^{-2}$ s$^{-1}$]\")\n",
    "ax.set_xlabel(\"Energy [TeV]\")\n",
    "plt.legend()\n",
    "plt.savefig(f'../res/{region_name}/{Modelname}/Spectrum.png', dpi=300)\n",
    "plt.savefig(f'../res/{region_name}/{Modelname}/Spectrum.pdf')"
   ]
  },
  {
   "cell_type": "code",
   "execution_count": null,
   "metadata": {},
   "outputs": [],
   "source": []
  }
 ],
 "metadata": {
  "kernelspec": {
   "display_name": "3MLhal",
   "language": "python",
   "name": "python3"
  },
  "language_info": {
   "codemirror_mode": {
    "name": "ipython",
    "version": 3
   },
   "file_extension": ".py",
   "mimetype": "text/x-python",
   "name": "python",
   "nbconvert_exporter": "python",
   "pygments_lexer": "ipython3",
   "version": "3.9.15"
  },
  "orig_nbformat": 4
 },
 "nbformat": 4,
 "nbformat_minor": 2
}
