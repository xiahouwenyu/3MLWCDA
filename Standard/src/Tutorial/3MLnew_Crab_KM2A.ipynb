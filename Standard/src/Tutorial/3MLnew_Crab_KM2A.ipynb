{
 "cells": [
  {
   "cell_type": "code",
   "execution_count": null,
   "metadata": {},
   "outputs": [],
   "source": [
    "## 环境\n",
    "import sys,  os\n",
    "os.environ['OPENBLAS_NUM_THREADS'] = '1'\n",
    "os.environ['OMP_NUM_THREADS'] = '1'\n",
    "os.environ['MKL_NUM_THREADS'] = '1'\n",
    "os.environ['NUMEXPR_NUM_THREADS'] = '1'\n",
    "os.environ[\"NUMBA_NUM_THREADS\"] = \"64\"\n",
    "os.environ[\"NUMBA_THREADING_LAYER\"] = \"omp\"\n",
    "# os.environ[\"KMP_DUPLICATE_LIB_OK\"]=\"TRUE\"\n",
    "sys.path.append(\"./mylib/\")\n",
    "\n",
    "## 基础\n",
    "import numpy as np\n",
    "import matplotlib\n",
    "import matplotlib.pyplot as plt\n",
    "matplotlib.use('Agg')\n",
    "\n",
    "## 必要库\n",
    "from threeML import *\n",
    "try:\n",
    "    from hawc_hal import HAL, HealpixConeROI, HealpixMapROI\n",
    "except:\n",
    "    from WCDA_hal import HAL, HealpixConeROI, HealpixMapROI\n",
    "import mylib as my\n",
    "from importlib import reload\n",
    "\n",
    "##可选\n",
    "# from threeML import silence_progress_bars, activate_progress_bars, toggle_progress_bars\n",
    "# from threeML.utils.progress_bar import trange\n",
    "# from tqdm import tqdm\n",
    "# from astropy.io import fits\n",
    "# from astropy.wcs import WCS\n",
    "# from astropy.coordinates import SkyCoord\n",
    "# from astropy import units as u\n",
    "# from astropy.visualization import astropy_mpl_style, imshAow_norm\n",
    "# from astropy.coordinates import Angle\n",
    "import healpy as hp\n",
    "# import traceback\n",
    "\n",
    "## 警告\n",
    "# import warnings\n",
    "# np.seterr(all=\"ignore\")\n",
    "np.seterr(divide=\"ignore\")\n",
    "# warnings.simplefilter(\"ignore\")\n",
    "# silence_warnings()\n",
    "# silence_logs()\n",
    "# quiet_mode()\n",
    "# loud_mode()\n",
    "# debug_mode()"
   ]
  },
  {
   "cell_type": "code",
   "execution_count": null,
   "metadata": {},
   "outputs": [],
   "source": [
    "# you can do some change about the lib and reload it any time.\n",
    "reload(my)"
   ]
  },
  {
   "cell_type": "code",
   "execution_count": null,
   "metadata": {},
   "outputs": [],
   "source": [
    "#####   Data Initialize\n",
    "\n",
    "\n",
    "# maptree = \"../../data/KM2A_all_final.root\" #old catalog\n",
    "# response = \"../../data/KM2A_DR_all.root\"\n",
    "\n",
    "# maptree = \"../../data/KM2A1234full_skymap_rcy.root\"\n",
    "# maptree = \"../../data/KM2A_20240131_out.root\"\n",
    "\n",
    "# response = \"../../data/KM2A1234full_mcpsf_DRfinal.root\"\n",
    "# response = \"../../data/KM2A1234full_mcpsfnewfix13.root\"\n",
    "\n",
    "# maptree = \"../../data/KM2A_20240131_xsq1389.root\"\n",
    "# response = \"../../data/KM2A_DR_20240131.root\"\n",
    "\n",
    "maptree = \"../../data/KM2A_20240731_xsq_out.root\"\n",
    "response = \"../../data/KM2A_DR_xsq.root\"\n",
    "\n",
    "region_name=\"Crab\"\n",
    "if not os.path.exists(f'../res/{region_name}/'):\n",
    "    os.system(f'mkdir ../res/{region_name}/')\n",
    "ra, dec =  83.62, 22.01\n",
    "ra1,dec1=ra, dec\n",
    "\n",
    "data_radius = 6.0\n",
    "model_radius = 8.0\n",
    "roi=HealpixConeROI(ra=ra1,dec=dec1,data_radius=data_radius,model_radius=model_radius)  \n",
    "KM2A = HAL(\"KM2A\", maptree, response, roi, flat_sky_pixels_size=0.1)\n",
    "\n",
    "#####   Data Situation\n",
    "%matplotlib inline\n",
    "KM2A.set_active_measurements(0, 13)\n",
    "KM2A.display()\n",
    "\n",
    "fig = KM2A.display_stacked_image(smoothing_kernel_sigma=0.25) #\n",
    "fig.show()\n",
    "fig.savefig(f\"../res/{region_name}/counts_all.png\",dpi=300)"
   ]
  },
  {
   "cell_type": "code",
   "execution_count": null,
   "metadata": {},
   "outputs": [],
   "source": [
    "Modelname=\"1pt+1gaus+DGE_KM2A\"  # Name your model now to facilitate the creation of record folders by the program.\n",
    "if not os.path.exists(f'../res/{region_name}/{Modelname}/'):\n",
    "    os.system(f'mkdir ../res/{region_name}/{Modelname}/')\n",
    "\n",
    "#Without extended parameter settings, it's a point source. When you set the corresponding extension, it becomes the respective source.\n",
    "# crab = my.setsorce(\"crab\",ra1,dec1, fitrange=1,\n",
    "#                 indexb=(-10,-1), kb=(1e-14, 1e-8),\n",
    "#                 )\n",
    "\n",
    "crab = my.setsorce(\"crab\",ra1,dec1, fitrange=1, alpha= -2.6, beta=0.1, piv=50,\n",
    "                spec=Log_parabola(), kb=(1e-16, 1e-10)\n",
    "                )\n",
    "\n",
    "ext1 = my.setsorce(\"ext1\",85.5, 23.5, sigma=1, fitrange=0.5, sb=(0,3), piv=50, \n",
    "                indexb=(-4, -1), kb=(1e-17, 1e-10)\n",
    "                )\n",
    "\n",
    "Diffuse = my.set_diffusebkg(\n",
    "                ra1, dec1, data_radius, data_radius,\n",
    "                piv=50,\n",
    "                Kb=(1e-17, 1e-10),\n",
    "                # K = 3.3e-13, index = -2.3,\n",
    "                Kf=False, indexf=False,\n",
    "                name=\"Crab\"\n",
    "                )\n",
    "\n",
    "lm = Model(crab, ext1, Diffuse) # \n",
    "\n",
    "with open(f'../res/{region_name}/{Modelname}/Model_init.txt', 'w') as f:\n",
    "    for key, value in lm.parameters.items():\n",
    "        f.write(f'{key}: {value}\\n')\n",
    "\n",
    "lm.display(complete=True)"
   ]
  },
  {
   "cell_type": "code",
   "execution_count": null,
   "metadata": {},
   "outputs": [],
   "source": [
    "# Attempt the fitting; it will take approximately two minutes.\n",
    "result = my.fit(region_name, Modelname, KM2A, lm, 4, 13, mini=\"minuit\")\n",
    "sources = my.get_sources(lm,result)\n",
    "result[1][0]\n",
    "# result[0].get_contours(J0248.Gaussian_on_sphere.lon0,39.88,44.88,30)"
   ]
  },
  {
   "cell_type": "code",
   "execution_count": null,
   "metadata": {},
   "outputs": [],
   "source": [
    "fig = KM2A.display_spectrum()"
   ]
  },
  {
   "cell_type": "code",
   "execution_count": null,
   "metadata": {},
   "outputs": [],
   "source": [
    "# Don't try this!!!! as it requires a significant amount of time!!!\"\n",
    "gof_obj = GoodnessOfFit(result[0])\n",
    "gof, data_frame, like_data_frame = gof_obj.by_mc(n_iterations=200)"
   ]
  },
  {
   "cell_type": "code",
   "execution_count": null,
   "metadata": {},
   "outputs": [],
   "source": [
    "# Compute Ts,  it will take approximately five minutes.\n",
    "TSlist = [\"crab\", \"ext1\", \"Diffuse\"]  # A list put the sources that you want to compute TS\n",
    "TS, TSresults = my.getTSall(TSlist, region_name, Modelname, result, KM2A)\n",
    "TSresults"
   ]
  },
  {
   "cell_type": "code",
   "execution_count": null,
   "metadata": {},
   "outputs": [],
   "source": [
    "%matplotlib inline\n",
    "sources = my.get_sources(lm,result)\n",
    "sources.pop(\"Diffuse\")\n",
    "sources[\"HAWC J0543+233\"]=sources.pop(\"ext1\")\n",
    "sources[\"Crab\"]=sources.pop(\"crab\")\n",
    "# sources={}\n",
    "map2, skymapHeader = hp.read_map(\"../../data/fullsky_KM2A_llh-3.5_new.fits.gz\",h=True)\n",
    "map2 = hp.ma(map2)\n",
    "fig = my.drawmap(region_name, Modelname, sources, map2, ra1, dec1, rad=2*data_radius, contours=[1000],save=True, cat={})\n",
    "plt.legend()\n",
    "plt.figure()\n",
    "my.getsig1D(map2, region_name, Modelname, region_name)"
   ]
  },
  {
   "cell_type": "code",
   "execution_count": null,
   "metadata": {},
   "outputs": [],
   "source": [
    "Flux_WCDA, jls1 = my.getdatapoint(KM2A, lm, maptree, response, roi, \"crab\", piv=50) #, ifpowerlawM=1\n",
    "# Flux_WCDA2, jls2 = my.getdatapoint(KM2A, lm, maptree, response, roi, \"ext1\", ifpowerlawM=1, piv=50)\n",
    "# Flux_WCDA3, jls3 = my.getdatapoint(KM2A, lm, maptree, response, roi, \"Diffuse\", ifpowerlawM=1, piv=50)"
   ]
  },
  {
   "cell_type": "code",
   "execution_count": null,
   "metadata": {},
   "outputs": [],
   "source": [
    "%matplotlib inline\n",
    "x_Max=10000.\n",
    "x_Min=.1\n",
    "y_Min=0.2e-17\n",
    "y_Max=1e-7\n",
    "fig,ax = plt.subplots()\n",
    "plot_spectra(\n",
    "    result[0].results,\n",
    "    sources_to_use=[\"crab\"],\n",
    "    include_extended=True,\n",
    "    ene_min=x_Min,\n",
    "    ene_max=x_Max,\n",
    "    num_ene=30,\n",
    "    energy_unit=\"TeV\",\n",
    "    flux_unit=\"TeV/(s cm2)\",\n",
    "    subplot=ax\n",
    "    )\n",
    "\n",
    "my.Draw_sepctrum_points(region_name, Modelname, Flux_WCDA,\"Crab\",\"tab:red\")\n",
    "# my.Draw_sepctrum_points(region_name, Modelname, Flux_WCDA3,\"ext1\",\"tab:blue\")\n",
    "# my.Draw_sepctrum_points(region_name, Modelname, Flux_WCDA2,\"Diffuse\",\"tab:green\")\n",
    "\n",
    "e_J0248=np.linspace(x_Min,x_Max,500)\n",
    "crab_data = np.array([[0.645589, 4.99911e-11, 5.2533e-12],\n",
    "[1.23979, 3.89817e-11, 2.24529e-12],\n",
    "[2.42276, 2.40127e-11, 1.76418e-12],\n",
    "[4.06902, 1.73829e-11, 1.68635e-12],\n",
    "[6.35322, 9.85614e-12, 1.47362e-12],\n",
    "[12.3595, 8.32206e-12, 8.84423e-13]])\n",
    "\n",
    "crab_data_km2a = np.array([\n",
    "[12.59, 6.78e-12,  2.90e-13,  2.90e-13],\n",
    "[19.95, 4.21e-12,  1.76e-13,  1.76e-13],\n",
    "[31.62, 2.55e-12,  1.16e-13,  1.16e-13],\n",
    "[50.12, 1.59e-12,  1.00e-13,  1.00e-13],\n",
    "[79.43, 8.94e-13,  7.54e-14,  7.54e-14],\n",
    "[125.89, 4.67e-13,  6.46e-14,  6.46e-14],\n",
    "[199.53, 2.84e-13,  6.04e-14,  6.04e-14],\n",
    "[316.23, 1.10e-13,  4.12e-14,  6.22e-14],\n",
    "[501.19, 8.55e-14,  5.42e-14,  6.67e-14],\n",
    "[794.33, 4.33e-14,  2.74e-14,  7.65e-14],\n",
    "[1258.93,  6.83e-14 , 4.30e-14 , 1.20e-13],\n",
    "[1995.26,  -2.12e-16,  0.00e+00,  1.73e-13]])\n",
    "flux_J0248_sci=e_J0248**2*8.2e-14*pow(e_J0248/10,-2.9-0.19*np.log10(e_J0248/10))\n",
    "plt.errorbar(crab_data[:,0], crab_data[:,1], crab_data[:,2],fmt=\"o\", c = \"tab:purple\") #,label='Crab Science'\n",
    "plt.errorbar(crab_data_km2a[:,0], crab_data_km2a[:,1], [crab_data_km2a[:,2], crab_data_km2a[:,3]],fmt=\"o\", c = \"tab:purple\") \n",
    "plt.plot(e_J0248,flux_J0248_sci,label='LHAASO Science', c = \"tab:purple\")\n",
    "\n",
    "LHAASO_sensitivity = np.genfromtxt(\"../../data/LHAASO_sensitivity.csv\",delimiter=',')\n",
    "plt.plot(LHAASO_sensitivity[:,0],LHAASO_sensitivity[:,1]*1e-11,label=\"LHAASO 1yr\", c=\"black\")\n",
    "\n",
    "ax.set_xlim(x_Min,x_Max)\n",
    "ax.set_ylim(y_Min,y_Max)\n",
    "ax.set_xscale('log')\n",
    "ax.set_yscale('log')\n",
    "ax.set_ylabel(r\"$E^2\\,dN/dE$ [TeV cm$^{-2}$ s$^{-1}$]\")\n",
    "ax.set_xlabel(\"Energy [TeV]\")\n",
    "plt.legend()\n",
    "plt.savefig(f'../res/{region_name}/{Modelname}/Spectrum.png', dpi=300)\n",
    "plt.savefig(f'../res/{region_name}/{Modelname}/Spectrum.pdf')"
   ]
  },
  {
   "cell_type": "code",
   "execution_count": null,
   "metadata": {},
   "outputs": [],
   "source": [
    "f1 = Flux_WCDA[0][3]*1e9*Flux_WCDA[0][0]**2\n",
    "e1 = Flux_WCDA[0][0]\n",
    "f2=Flux_WCDA[0][0]**2*8.2e-14*pow(Flux_WCDA[0][0]/10,-2.9-0.19*np.log10(Flux_WCDA[0][0]/10))\n",
    "print(e1, f1, f2, (f2-f1)/f2)"
   ]
  },
  {
   "cell_type": "code",
   "execution_count": null,
   "metadata": {},
   "outputs": [],
   "source": [
    "# If you want to get residual llh map, you need a new rootfile.\n",
    "my.write_resmap(region_name, Modelname, KM2A, roi, maptree, response,\n",
    "ra1, dec1, \"crab_res\",\n",
    "[0],[0,0], #point source and ext source, if you have 3pt and 2 ext, and you only want sig about pt1, then use [1,0,0],[0, 0], or you only want 2nd ext: [0,0,0],[0,1]\n",
    "data_radius,\n",
    "# binc=\"all\",\n",
    "binc=[\"2\",\"3\",\"4\",\"5\",\"6\",\"7\",\"8\"],\n",
    "detector=\"KM2A\"\n",
    ")\n",
    "# ! The file you got need use Add_UserInfo.cc in ./tools/llh_skymap to add UserInfo"
   ]
  },
  {
   "cell_type": "code",
   "execution_count": null,
   "metadata": {},
   "outputs": [],
   "source": [
    "%matplotlib inline\n",
    "resmap = my.getllhskymap(\"crab_res_res\", region_name, Modelname, ra1, dec1, data_radius, ifsave=True, ifdraw=1, tofits=1, detector=\"KM2A\")\n",
    "my.getsig1D(resmap, region_name, Modelname, region_name)"
   ]
  },
  {
   "cell_type": "code",
   "execution_count": null,
   "metadata": {},
   "outputs": [],
   "source": [
    "#About 5 min\n",
    "smoothsigma=[0.4123, 0.3111, 0.2476, 0.2064, 0.1633, 0.1379, 0.2896, 0.2594, 0.2152, 0.189, 0.1561, 0.14]#The first six bins are normal, and the following ones are merged bins, representing the total (merged), without the first bin, and without the first two bins, respectively.\n",
    "maps = my.getmap(KM2A,roi,\"Crab\",\n",
    "                 modelindex=[1,2], # modelindex: pt and ext number\n",
    "               # pta=[0], exta=[0],\n",
    "                   stack=[1.010229, 1.020917, 1.040597, 1.064803, 1.090451, 1.130015], #Combine bins with all bin based on signal-to-noise ratio.\n",
    "                  #  stack=[0, 0, 1.002131,1.005977,1.002093,1.004078], #Combine bins with nhit >= 200 based on signal-to-noise ratio.\n",
    "                  #  stack=[0, 1.002131,1.005977,1.002093,1.004078],\n",
    "                   smoothsigma=smoothsigma\n",
    "                   #, binc=[\"1\",\"2\",\"3\",\"4\",\"5\"]\n",
    "                   )\n",
    "smapall = my.smoothmap(maps[-1], smooth_sigma=0.2896)"
   ]
  },
  {
   "cell_type": "code",
   "execution_count": null,
   "metadata": {},
   "outputs": [],
   "source": [
    "%matplotlib inline\n",
    "psfdata = my.Draw_lateral_distribution(region_name, Modelname, maps[0], 83.622, 22.002, 20, 0.1, True)"
   ]
  },
  {
   "cell_type": "code",
   "execution_count": null,
   "metadata": {},
   "outputs": [],
   "source": [
    "%matplotlib inline\n",
    "res=True # Do you want resmap? or org map.\n",
    "saven = \"Significance\"\n",
    "if res:\n",
    "    saven+=\"_res\"\n",
    "sigmap = my.getsigmap(region_name, Modelname, [smapall],i=0,signif=17,res=res,name=\"Crab\")\n",
    "fig = my.drawmap(region_name, Modelname, sources, sigmap, ra1, dec1, rad=2*data_radius, contours=[1000],save=True,savename=saven)\n",
    "#There is another source around crab, so you can try another model: 1pt+1gaus maybe?"
   ]
  },
  {
   "cell_type": "code",
   "execution_count": null,
   "metadata": {},
   "outputs": [],
   "source": []
  }
 ],
 "metadata": {
  "kernelspec": {
   "display_name": "3ML",
   "language": "python",
   "name": "python3"
  },
  "language_info": {
   "codemirror_mode": {
    "name": "ipython",
    "version": 3
   },
   "file_extension": ".py",
   "mimetype": "text/x-python",
   "name": "python",
   "nbconvert_exporter": "python",
   "pygments_lexer": "ipython3",
   "version": "3.9.15"
  },
  "orig_nbformat": 4
 },
 "nbformat": 4,
 "nbformat_minor": 2
}
