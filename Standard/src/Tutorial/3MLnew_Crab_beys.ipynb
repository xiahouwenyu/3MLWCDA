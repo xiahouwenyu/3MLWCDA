{
 "cells": [
  {
   "cell_type": "code",
   "execution_count": null,
   "metadata": {},
   "outputs": [],
   "source": [
    "## 环境\n",
    "import sys,  os\n",
    "os.environ['OPENBLAS_NUM_THREADS'] = '1'\n",
    "os.environ['OMP_NUM_THREADS'] = '1'\n",
    "os.environ['MKL_NUM_THREADS'] = '1'\n",
    "os.environ['NUMEXPR_NUM_THREADS'] = '1'\n",
    "os.environ[\"NUMBA_NUM_THREADS\"] = \"64\"\n",
    "os.environ[\"NUMBA_THREADING_LAYER\"] = \"omp\"\n",
    "# os.environ[\"KMP_DUPLICATE_LIB_OK\"]=\"TRUE\"\n",
    "sys.path.append(\"../../\")\n",
    "\n",
    "## 基础\n",
    "import numpy as np\n",
    "import matplotlib\n",
    "import matplotlib.pyplot as plt\n",
    "matplotlib.use('Agg')\n",
    "\n",
    "## 必要库\n",
    "from threeML import *\n",
    "try:\n",
    "    from hawc_hal import HAL, HealpixConeROI, HealpixMapROI\n",
    "except:\n",
    "    from WCDA_hal import HAL, HealpixConeROI, HealpixMapROI\n",
    "import mylib as my\n",
    "from importlib import reload\n",
    "\n",
    "##可选\n",
    "# from threeML import silence_progress_bars, activate_progress_bars, toggle_progress_bars\n",
    "# from threeML.utils.progress_bar import trange\n",
    "# from tqdm import tqdm\n",
    "# from astropy.io import fits\n",
    "# from astropy.wcs import WCS\n",
    "# from astropy.coordinates import SkyCoord\n",
    "# from astropy import units as u\n",
    "# from astropy.visualization import astropy_mpl_style, imshAow_norm\n",
    "# from astropy.coordinates import Angle\n",
    "import healpy as hp\n",
    "# import traceback\n",
    "\n",
    "## 警告\n",
    "# import warnings\n",
    "# np.seterr(all=\"ignore\")\n",
    "np.seterr(divide=\"ignore\")\n",
    "# warnings.simplefilter(\"ignore\")\n",
    "# silence_warnings()\n",
    "# silence_logs()\n",
    "# quiet_mode()\n",
    "# loud_mode()\n",
    "# debug_mode()"
   ]
  },
  {
   "cell_type": "code",
   "execution_count": null,
   "metadata": {},
   "outputs": [],
   "source": [
    "# you can do some change about the lib and reload it any time.\n",
    "reload(my)"
   ]
  },
  {
   "cell_type": "code",
   "execution_count": null,
   "metadata": {},
   "outputs": [],
   "source": [
    "#####   Data Initialize\n",
    "\n",
    "# maptree = \"../../data/gcd_new.root\"\n",
    "# response = \"../../data/WCDA_DR_psf.root\"\n",
    "\n",
    "maptree = \"../../data/20210305_20230731_ihep_goodlist.root\"\n",
    "# response = \"../../data/DR_ihep_MK2.root\"\n",
    "response = \"../../data/DR_ihep_MK2_newpsf.root\"\n",
    "\n",
    "region_name=\"Crab\"\n",
    "if not os.path.exists(f'../res/{region_name}/'):\n",
    "    os.system(f'mkdir ../res/{region_name}/')\n",
    "ra_crab, dec_crab = 83.63,22.02\n",
    "ra1,dec1=ra_crab, dec_crab\n",
    "\n",
    "data_radius = 5.0\n",
    "model_radius = 8.0\n",
    "roi=HealpixConeROI(ra=ra1,dec=dec1,data_radius=data_radius,model_radius=model_radius)  \n",
    "WCDA = HAL(\"WCDA\", maptree, response, roi, flat_sky_pixels_size=0.17)\n",
    "\n",
    "#####   Data Situation\n",
    "%matplotlib inline\n",
    "WCDA.set_active_measurements(0, 5)\n",
    "WCDA.display()\n",
    "\n",
    "fig = WCDA.display_stacked_image(smoothing_kernel_sigma=0.25)\n",
    "fig.show()\n",
    "fig.savefig(f\"../res/{region_name}/counts_all.png\",dpi=300)"
   ]
  },
  {
   "cell_type": "code",
   "execution_count": null,
   "metadata": {},
   "outputs": [],
   "source": [
    "Modelname=\"1pt_beys\"  # Name your model now to facilitate the creation of record folders by the program.\n",
    "if not os.path.exists(f'../res/{region_name}/{Modelname}/'):\n",
    "    os.system(f'mkdir ../res/{region_name}/{Modelname}/')\n",
    "\n",
    "\n",
    "#Without extended parameter settings, it's a point source. When you set the corresponding extension, it becomes the respective source.\n",
    "# crab = my.setsorce(\"crab\",ra1,dec1, fitrange=1,\n",
    "#                 indexb=(-10,-1), kb=(1e-14, 1e-8),\n",
    "#                 )\n",
    "\n",
    "crab = my.setsorce(\"crab\",ra1,dec1, fitrange=0.5, alpha=-2.6,alphab=(-4,-1),beta=0.1, #, sigma=0.001, sb=(0,0.1),\n",
    "                spec=Log_parabola()\n",
    "                )\n",
    "# crab2 = my.setsorce(\"crab2\",ra1,dec1, fitrange=0.5, indexb=(-10,-1), kb=(1e-14, 1e-8)\n",
    "#                 )\n",
    "\n",
    "# ext1 = my.setsorce(\"ext1\",85.5,23.5, fitrange=1, sigma=1, sb=(0,3),\n",
    "#                 indexb=(-10,1), kb=(1e-15, 1e-8)\n",
    "#                 )\n",
    "\n",
    "lm = Model(crab) #crab2, , ext1\n",
    "\n",
    "lm.crab.spectrum.main.Log_parabola.alpha.set_uninformative_prior(Uniform_prior)\n",
    "lm.crab.spectrum.main.Log_parabola.K.set_uninformative_prior(Log_uniform_prior)\n",
    "lm.crab.spectrum.main.Log_parabola.beta.prior = Uniform_prior(\n",
    "    lower_bound=-10, upper_bound=10\n",
    ")\n",
    "lm.crab.position.ra.set_uninformative_prior(Uniform_prior)\n",
    "lm.crab.position.dec.set_uninformative_prior(Uniform_prior)\n",
    "\n",
    "with open(f'../res/{region_name}/{Modelname}/Model_init.txt', 'w') as f:\n",
    "    for key, value in lm.parameters.items():\n",
    "        f.write(f'{key}: {value}\\n')\n",
    "\n",
    "lm.display(complete=True)"
   ]
  },
  {
   "cell_type": "code",
   "execution_count": null,
   "metadata": {},
   "outputs": [],
   "source": [
    "bs = BayesianAnalysis(lm, DataList(WCDA))\n",
    "bs.set_sampler(\"emcee\")\n",
    "bs.sampler.setup(100)\n",
    "# This uses the ultranest sampler\n",
    "samples = bs.sample(quiet=True)"
   ]
  },
  {
   "cell_type": "code",
   "execution_count": null,
   "metadata": {},
   "outputs": [],
   "source": [
    "bs.results.display()"
   ]
  },
  {
   "cell_type": "code",
   "execution_count": null,
   "metadata": {},
   "outputs": [],
   "source": [
    "fluxes_bs = bs.results.get_flux(100 * u.keV, 1 * u.MeV)\n",
    "x_Max=50.\n",
    "x_Min=.1\n",
    "y_Min=0.2e-13\n",
    "y_Max=1e-8\n",
    "fig = plot_spectra(\n",
    "    bs.results, ene_min=x_Min, ene_max=x_Max, num_ene=30,  energy_unit=\"TeV\", flux_unit=\"TeV / (cm2 s)\"\n",
    ")"
   ]
  },
  {
   "cell_type": "code",
   "execution_count": null,
   "metadata": {},
   "outputs": [],
   "source": [
    "bs.results.corner_plot()"
   ]
  },
  {
   "cell_type": "code",
   "execution_count": null,
   "metadata": {},
   "outputs": [],
   "source": [
    "# Attempt the fitting; it will take approximately two minutes.\n",
    "result = my.fit(region_name, Modelname, WCDA, lm, 0, 5, mini=\"minuit\")\n",
    "sources = my.get_sources(lm,result)\n",
    "result[1][0]\n",
    "# result[0].get_contours(J0248.Gaussian_on_sphere.lon0,39.88,44.88,30)"
   ]
  },
  {
   "cell_type": "code",
   "execution_count": null,
   "metadata": {},
   "outputs": [],
   "source": [
    "# Compute Ts,  it will take approximately five minutes.\n",
    "TSlist = [\"crab\", \"ext1\"] # A list put the sources that you want to compute TS\n",
    "TS = {}\n",
    "for sc in tqdm(TSlist):\n",
    "    TS[sc]=result[0].compute_TS(sc,result[1][1]).values[0][2]\n",
    "llh = WCDA.get_log_like()\n",
    "TS_all = WCDA.cal_TS_all()\n",
    "TS[\"TS_all\"] = TS_all\n",
    "TS[\"-log(likelihood)\"] = -llh\n",
    "TSresults = pd.DataFrame([TS])\n",
    "TSresults.to_csv(f'../res/{region_name}/{Modelname}/Results.txt', sep='\\t', mode='a', index=False)\n",
    "TSresults"
   ]
  },
  {
   "cell_type": "code",
   "execution_count": null,
   "metadata": {},
   "outputs": [],
   "source": [
    "%matplotlib inline\n",
    "sources = my.get_sources(lm,result)\n",
    "\n",
    "map2, skymapHeader = hp.read_map(\"../../data/signif_20210305_20230731_ihep_goodlist_nHit006_0.29.fits.gz.fits.gz\",h=True)\n",
    "map2 = hp.ma(map2)\n",
    "fig = my.drawmap(region_name, Modelname, sources, map2, ra1, dec1, rad=6, contours=[1000],save=True)\n",
    "# radx= 10; rady = 10\n",
    "# ymax = dec1+rady/2\n",
    "# ymin = dec1-rady/2\n",
    "# xmin = ra1-radx/2\n",
    "# xmax = ra1+radx/2\n",
    "# my.Drawcat(xmin,xmax,ymin,ymax,\"4FGL\",\"^\",\"black\",60,label=\"4FGL\",textlabel=True)\n",
    "# my.Drawcat(xmin,xmax,ymin,ymax,\"QSO\",\">\",\"black\",60,label=\"QSO\",textlabel=True)\n",
    "# my.Drawcat(xmin,xmax,ymin,ymax,\"Simbad\",\".\",\"black\",90,fontsize=3,label=\"AGN\",stype=\"AGN\",textlabel=False)\n",
    "# There are many catalog, you can find it in my souce code.\n",
    "plt.legend()"
   ]
  },
  {
   "cell_type": "code",
   "execution_count": null,
   "metadata": {},
   "outputs": [],
   "source": [
    "Flux_WCDA = my.getdatapoint(WCDA, lm, maptree, response, roi, \"crab\")\n",
    "Flux_WCDA2 = my.getdatapoint(WCDA, lm, maptree, response, roi, \"ext1\")\n",
    "# Flux_WCDA3 = my.getdatapoint(WCDA, lm, maptree, response, roi, \"crab2\")"
   ]
  },
  {
   "cell_type": "code",
   "execution_count": null,
   "metadata": {},
   "outputs": [],
   "source": [
    "%matplotlib inline\n",
    "x_Max=50.\n",
    "x_Min=.1\n",
    "y_Min=0.2e-13\n",
    "y_Max=1e-8\n",
    "fig,ax = plt.subplots()\n",
    "plot_spectra(\n",
    "    result[0].results,\n",
    "    sources_to_use=[\"crab\", \"crab2\", \"ext1\"],\n",
    "    include_extended=True,\n",
    "    ene_min=x_Min,\n",
    "    ene_max=x_Max,\n",
    "    num_ene=30,\n",
    "    energy_unit=\"TeV\",\n",
    "    flux_unit=\"TeV/(s cm2)\",\n",
    "    subplot=ax\n",
    "    )\n",
    "\n",
    "my.Draw_sepctrum_points(region_name, Modelname, Flux_WCDA,\"Crab_data\",\"tab:red\")\n",
    "# my.Draw_sepctrum_points(region_name, Modelname, Flux_WCDA3,\"Crab_data2\",\"tab:blue\")\n",
    "my.Draw_sepctrum_points(region_name, Modelname, Flux_WCDA2,\"ext1_data\",\"tab:blue\")\n",
    "\n",
    "e_J0248=np.linspace(x_Min,x_Max,500)\n",
    "crab_data = np.array([[0.645589, 4.99911e-11, 5.2533e-12],\n",
    "[1.23979, 3.89817e-11, 2.24529e-12],\n",
    "[2.42276, 2.40127e-11, 1.76418e-12],\n",
    "[4.06902, 1.73829e-11, 1.68635e-12],\n",
    "[6.35322, 9.85614e-12, 1.47362e-12],\n",
    "[12.3595, 8.32206e-12, 8.84423e-13]])\n",
    "flux_J0248_sci=e_J0248**2*8.2e-14*pow(e_J0248/10,-2.9-0.19*np.log10(e_J0248/10))\n",
    "plt.errorbar(crab_data[:,0], crab_data[:,1], crab_data[:,2],label='Crab Science',fmt=\"o\", c = \"tab:purple\")\n",
    "plt.plot(e_J0248,flux_J0248_sci,label='LHAASO Science', c = \"tab:purple\")\n",
    "\n",
    "LHAASO_sensitivity = np.genfromtxt(\"./LHAASO_sensitivity.csv\",delimiter=',')\n",
    "plt.plot(LHAASO_sensitivity[:,0],LHAASO_sensitivity[:,1]*1e-11,label=\"LHAASO 1yr\", c=\"black\")\n",
    "\n",
    "ax.set_xlim(x_Min,x_Max)\n",
    "ax.set_ylim(y_Min,y_Max)\n",
    "ax.set_xscale('log')\n",
    "ax.set_yscale('log')\n",
    "ax.set_ylabel(r\"$E^2\\,dN/dE$ [TeV cm$^{-2}$ s$^{-1}$]\")\n",
    "ax.set_xlabel(\"Energy [TeV]\")\n",
    "plt.legend()\n",
    "plt.savefig(f'../res/{region_name}/{Modelname}/Spectrum.png', dpi=300)\n",
    "plt.savefig(f'../res/{region_name}/{Modelname}/Spectrum.pdf')"
   ]
  },
  {
   "cell_type": "code",
   "execution_count": null,
   "metadata": {},
   "outputs": [],
   "source": [
    "f1 = Flux_WCDA[0][3]*1e9*Flux_WCDA[0][0]**2\n",
    "e1 = Flux_WCDA[0][0]\n",
    "f2=Flux_WCDA[0][0]**2*8.2e-14*pow(Flux_WCDA[0][0]/10,-2.9-0.19*np.log10(Flux_WCDA[0][0]/10))\n",
    "print(e1, f1, f2, (f2-f1)/f2)"
   ]
  },
  {
   "cell_type": "code",
   "execution_count": null,
   "metadata": {},
   "outputs": [],
   "source": [
    "#About 5 min\n",
    "smoothsigma=[0.4123, 0.3111, 0.2476, 0.2064, 0.1633, 0.1379, 0.2896, 0.2594, 0.2152, 0.189, 0.1561, 0.14]#The first six bins are normal, and the following ones are merged bins, representing the total (merged), without the first bin, and without the first two bins, respectively.\n",
    "maps = my.getmap(WCDA,roi,\"Crab\",\n",
    "                 modelindex=[1,1], # modelindex: pt and ext number\n",
    "               # pta=[0], exta=[0],\n",
    "                   stack=[1.000927,1.000286,1.002131,1.005977,1.002093,1.004078], #Combine bins with all bin based on signal-to-noise ratio.\n",
    "                  #  stack=[0, 0, 1.002131,1.005977,1.002093,1.004078], #Combine bins with nhit >= 200 based on signal-to-noise ratio.\n",
    "                  #  stack=[0, 1.002131,1.005977,1.002093,1.004078],\n",
    "                   smoothsigma=smoothsigma\n",
    "                   #, binc=[\"1\",\"2\",\"3\",\"4\",\"5\"]\n",
    "                   )\n",
    "smapall = my.smoothmap(maps[-1], smooth_sigma=0.2896)"
   ]
  },
  {
   "cell_type": "code",
   "execution_count": null,
   "metadata": {},
   "outputs": [],
   "source": [
    "%matplotlib inline\n",
    "psfdata = my.Draw_lateral_distribution(maps[0], 83.622, 22.002, 20, 0.1, True)"
   ]
  },
  {
   "cell_type": "code",
   "execution_count": null,
   "metadata": {},
   "outputs": [],
   "source": [
    "%matplotlib inline\n",
    "res=True # Do you want resmap? or org map.\n",
    "saven = \"Significance\"\n",
    "if res:\n",
    "    saven+=\"_res\"\n",
    "sigmap = my.getsigmap(region_name, Modelname, [smapall],i=0,signif=17,res=res,name=\"Crab\")\n",
    "fig = my.drawmap(region_name, Modelname, sources, sigmap, ra1, dec1, rad=10, contours=[1000],save=True,savename=saven)\n",
    "#There is another source around crab, so you can try another model: 1pt+1gaus maybe?"
   ]
  },
  {
   "cell_type": "code",
   "execution_count": null,
   "metadata": {},
   "outputs": [],
   "source": [
    "# If you want to get residual llh map, you need a new rootfile.\n",
    "my.write_resmap(region_name, Modelname, WCDA, roi, maptree, \n",
    "ra1, dec1, \"crab_res\",\n",
    "[0],[0], #point source and ext source, if you have 3pt and 2 ext, and you only want sig about pt1, then use [1,0,0],[0, 0], or you only want 2nd ext: [0,0,0],[0,1]\n",
    "binc=\"all\"\n",
    ")\n",
    "# ! The file you got need use Add_UserInfo.cc in ./tools/llh_skymap to add UserInfo"
   ]
  }
 ],
 "metadata": {
  "kernelspec": {
   "display_name": "3ML",
   "language": "python",
   "name": "python3"
  },
  "language_info": {
   "codemirror_mode": {
    "name": "ipython",
    "version": 3
   },
   "file_extension": ".py",
   "mimetype": "text/x-python",
   "name": "python",
   "nbconvert_exporter": "python",
   "pygments_lexer": "ipython3",
   "version": "3.9.15"
  },
  "orig_nbformat": 4
 },
 "nbformat": 4,
 "nbformat_minor": 2
}
